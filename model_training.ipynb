{
  "nbformat": 4,
  "nbformat_minor": 0,
  "metadata": {
    "colab": {
      "provenance": [],
      "authorship_tag": "ABX9TyO9YQOg1O7wJIAVHVc2SBKm",
      "include_colab_link": true
    },
    "kernelspec": {
      "name": "python3",
      "display_name": "Python 3"
    },
    "language_info": {
      "name": "python"
    }
  },
  "cells": [
    {
      "cell_type": "markdown",
      "metadata": {
        "id": "view-in-github",
        "colab_type": "text"
      },
      "source": [
        "<a href=\"https://colab.research.google.com/github/faizaslam11/ECG_model_arrhythmia/blob/main/model_training.ipynb\" target=\"_parent\"><img src=\"https://colab.research.google.com/assets/colab-badge.svg\" alt=\"Open In Colab\"/></a>"
      ]
    },
    {
      "cell_type": "code",
      "execution_count": 7,
      "metadata": {
        "id": "PnPPAJj0e3vN"
      },
      "outputs": [],
      "source": [
        "import numpy as np\n",
        "from sklearn.model_selection import train_test_split\n",
        "from tensorflow.keras import layers, models\n",
        "import pandas as pd\n"
      ]
    },
    {
      "cell_type": "code",
      "source": [
        "\n",
        "# Load the cleaned data from your file\n",
        "df = pd.read_csv('/content/all-samples-training-cleaned.csv')\n",
        "\n"
      ],
      "metadata": {
        "id": "GQSqMUIdfunz"
      },
      "execution_count": 9,
      "outputs": []
    },
    {
      "cell_type": "code",
      "source": [
        "# Extract features and labels from the processed DataFrame\n",
        "features = df.drop('Arrhythmia', axis=1)\n",
        "labels = df['Arrhythmia']"
      ],
      "metadata": {
        "id": "7ipLDq_3gFyE"
      },
      "execution_count": 11,
      "outputs": []
    },
    {
      "cell_type": "code",
      "source": [
        "X_train, X_test, y_train, y_test = train_test_split(features, labels, test_size=0.2, random_state=42)\n",
        "\n",
        "# Reshape data to 3D for RNN compatibility (samples, timesteps, features)\n",
        "X_train_rnn = np.expand_dims(X_train, axis=2)\n",
        "X_test_rnn = np.expand_dims(X_test, axis=2)\n"
      ],
      "metadata": {
        "id": "wi2wKrzZgKtz"
      },
      "execution_count": 12,
      "outputs": []
    },
    {
      "cell_type": "code",
      "source": [
        "# Build an RNN model using LSTM layers\n",
        "rnn_model = models.Sequential([\n",
        "    layers.LSTM(64, input_shape=(X_train_rnn.shape[1], 1), return_sequences=True),\n",
        "    layers.LSTM(32),\n",
        "    layers.Dense(16, activation='relu'),\n",
        "    layers.Dense(len(np.unique(labels)), activation='softmax')  # Output layer for multi-class classification\n",
        "])\n"
      ],
      "metadata": {
        "id": "3bCJDHOKgNrT"
      },
      "execution_count": 13,
      "outputs": []
    },
    {
      "cell_type": "code",
      "source": [
        "# Compile the model\n",
        "rnn_model.compile(optimizer='adam', loss='sparse_categorical_crossentropy', metrics=['accuracy'])\n",
        "\n",
        "# Train the RNN model\n",
        "rnn_history = rnn_model.fit(X_train_rnn, y_train, epochs=20, batch_size=32, validation_data=(X_test_rnn, y_test))\n"
      ],
      "metadata": {
        "colab": {
          "base_uri": "https://localhost:8080/"
        },
        "id": "edU-xthfgRD6",
        "outputId": "c31fdea5-345d-42b4-d951-7383b834361b"
      },
      "execution_count": 14,
      "outputs": [
        {
          "output_type": "stream",
          "name": "stdout",
          "text": [
            "Epoch 1/20\n",
            "74/74 [==============================] - 6s 23ms/step - loss: 0.6386 - accuracy: 0.9445 - val_loss: 0.1017 - val_accuracy: 0.9727\n",
            "Epoch 2/20\n",
            "74/74 [==============================] - 1s 10ms/step - loss: 0.0898 - accuracy: 0.9612 - val_loss: 0.0646 - val_accuracy: 0.9796\n",
            "Epoch 3/20\n",
            "74/74 [==============================] - 1s 10ms/step - loss: 0.0687 - accuracy: 0.9744 - val_loss: 0.0579 - val_accuracy: 0.9796\n",
            "Epoch 4/20\n",
            "74/74 [==============================] - 1s 10ms/step - loss: 0.0622 - accuracy: 0.9753 - val_loss: 0.0502 - val_accuracy: 0.9796\n",
            "Epoch 5/20\n",
            "74/74 [==============================] - 1s 11ms/step - loss: 0.0552 - accuracy: 0.9753 - val_loss: 0.0494 - val_accuracy: 0.9796\n",
            "Epoch 6/20\n",
            "74/74 [==============================] - 1s 13ms/step - loss: 0.0506 - accuracy: 0.9765 - val_loss: 0.0456 - val_accuracy: 0.9847\n",
            "Epoch 7/20\n",
            "74/74 [==============================] - 1s 16ms/step - loss: 0.0444 - accuracy: 0.9795 - val_loss: 0.0382 - val_accuracy: 0.9898\n",
            "Epoch 8/20\n",
            "74/74 [==============================] - 1s 17ms/step - loss: 0.0408 - accuracy: 0.9817 - val_loss: 0.0471 - val_accuracy: 0.9898\n",
            "Epoch 9/20\n",
            "74/74 [==============================] - 1s 10ms/step - loss: 0.0379 - accuracy: 0.9834 - val_loss: 0.0337 - val_accuracy: 0.9915\n",
            "Epoch 10/20\n",
            "74/74 [==============================] - 1s 10ms/step - loss: 0.0359 - accuracy: 0.9855 - val_loss: 0.0374 - val_accuracy: 0.9881\n",
            "Epoch 11/20\n",
            "74/74 [==============================] - 1s 10ms/step - loss: 0.0405 - accuracy: 0.9851 - val_loss: 0.0398 - val_accuracy: 0.9881\n",
            "Epoch 12/20\n",
            "74/74 [==============================] - 1s 10ms/step - loss: 0.0328 - accuracy: 0.9889 - val_loss: 0.0297 - val_accuracy: 0.9898\n",
            "Epoch 13/20\n",
            "74/74 [==============================] - 1s 11ms/step - loss: 0.0320 - accuracy: 0.9859 - val_loss: 0.0305 - val_accuracy: 0.9898\n",
            "Epoch 14/20\n",
            "74/74 [==============================] - 1s 11ms/step - loss: 0.0311 - accuracy: 0.9855 - val_loss: 0.0358 - val_accuracy: 0.9881\n",
            "Epoch 15/20\n",
            "74/74 [==============================] - 1s 10ms/step - loss: 0.0326 - accuracy: 0.9863 - val_loss: 0.0272 - val_accuracy: 0.9915\n",
            "Epoch 16/20\n",
            "74/74 [==============================] - 1s 11ms/step - loss: 0.0286 - accuracy: 0.9876 - val_loss: 0.0328 - val_accuracy: 0.9915\n",
            "Epoch 17/20\n",
            "74/74 [==============================] - 1s 10ms/step - loss: 0.0288 - accuracy: 0.9881 - val_loss: 0.0302 - val_accuracy: 0.9898\n",
            "Epoch 18/20\n",
            "74/74 [==============================] - 1s 11ms/step - loss: 0.0261 - accuracy: 0.9881 - val_loss: 0.0314 - val_accuracy: 0.9898\n",
            "Epoch 19/20\n",
            "74/74 [==============================] - 1s 12ms/step - loss: 0.0269 - accuracy: 0.9859 - val_loss: 0.0375 - val_accuracy: 0.9898\n",
            "Epoch 20/20\n",
            "74/74 [==============================] - 1s 11ms/step - loss: 0.0283 - accuracy: 0.9898 - val_loss: 0.0306 - val_accuracy: 0.9898\n"
          ]
        }
      ]
    },
    {
      "cell_type": "code",
      "source": [
        "# Evaluate model performance\n",
        "rnn_loss, rnn_accuracy = rnn_model.evaluate(X_test_rnn, y_test)\n",
        "print(f'Test Accuracy: {rnn_accuracy * 100:.2f}%')"
      ],
      "metadata": {
        "colab": {
          "base_uri": "https://localhost:8080/"
        },
        "id": "c49wsdfkgU4K",
        "outputId": "6e10833e-3026-4307-d02c-e0a43817adcc"
      },
      "execution_count": 15,
      "outputs": [
        {
          "output_type": "stream",
          "name": "stdout",
          "text": [
            "19/19 [==============================] - 0s 8ms/step - loss: 0.0306 - accuracy: 0.9898\n",
            "Test Accuracy: 98.98%\n"
          ]
        }
      ]
    },
    {
      "cell_type": "code",
      "source": [],
      "metadata": {
        "id": "cMI5RXwXhAoP"
      },
      "execution_count": null,
      "outputs": []
    }
  ]
}